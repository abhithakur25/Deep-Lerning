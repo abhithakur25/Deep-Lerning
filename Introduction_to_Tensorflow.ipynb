{
 "cells": [
  {
   "cell_type": "code",
   "execution_count": 1,
   "id": "8153112b",
   "metadata": {},
   "outputs": [],
   "source": [
    "import tensorflow as tf"
   ]
  },
  {
   "cell_type": "markdown",
   "id": "da0fca87",
   "metadata": {},
   "source": [
    "# Tensor\n",
    "    * This is N-Dimentional representation of an array of data for various ranks like scalar (tensor0), vector (rank1), matrix (rank2), tensor (3 rank or more ...)"
   ]
  },
  {
   "cell_type": "code",
   "execution_count": 2,
   "id": "a1026581",
   "metadata": {},
   "outputs": [
    {
     "data": {
      "text/plain": [
       "<tf.Tensor: shape=(), dtype=int32, numpy=10>"
      ]
     },
     "execution_count": 2,
     "metadata": {},
     "output_type": "execute_result"
    }
   ],
   "source": [
    "# scalar with tensor Rank = 0\n",
    "tf.constant(10)"
   ]
  },
  {
   "cell_type": "code",
   "execution_count": 3,
   "id": "f59094cb",
   "metadata": {},
   "outputs": [
    {
     "data": {
      "text/plain": [
       "<tf.Tensor: shape=(), dtype=int8, numpy=127>"
      ]
     },
     "execution_count": 3,
     "metadata": {},
     "output_type": "execute_result"
    }
   ],
   "source": [
    "# scalar with tensor rank = 0 , dtype = 'int8' (-128 to +127)\n",
    "tf.constant(127, dtype = 'int8')"
   ]
  },
  {
   "cell_type": "code",
   "execution_count": 4,
   "id": "26cdbf7b",
   "metadata": {},
   "outputs": [],
   "source": [
    "# scalar with tensor rank = 0, 'int16' => -32768 to +32767\n",
    "const_1 = tf.constant(12768, dtype = 'int16')"
   ]
  },
  {
   "cell_type": "code",
   "execution_count": 5,
   "id": "2f57773f",
   "metadata": {},
   "outputs": [
    {
     "data": {
      "text/plain": [
       "12768"
      ]
     },
     "execution_count": 5,
     "metadata": {},
     "output_type": "execute_result"
    }
   ],
   "source": [
    "const_1.numpy()"
   ]
  },
  {
   "cell_type": "code",
   "execution_count": 6,
   "id": "524d7ec4",
   "metadata": {},
   "outputs": [
    {
     "data": {
      "text/plain": [
       "TensorShape([])"
      ]
     },
     "execution_count": 6,
     "metadata": {},
     "output_type": "execute_result"
    }
   ],
   "source": [
    "const_1.shape"
   ]
  },
  {
   "cell_type": "code",
   "execution_count": 7,
   "id": "be68d4a8",
   "metadata": {},
   "outputs": [
    {
     "name": "stdout",
     "output_type": "stream",
     "text": [
      "tf.Tensor([20. 30. 40. 50. 60. 70. 15.], shape=(7,), dtype=float16)\n"
     ]
    }
   ],
   "source": [
    "#### Vectors\n",
    "\n",
    "# Vectors : Tensor Rank = 1 (Dimentionality = 1)\n",
    "const_2 = tf.constant([20., 30., 40., 50., 60., 70., 15.],dtype = 'float16')\n",
    "print(const_2)"
   ]
  },
  {
   "cell_type": "code",
   "execution_count": 10,
   "id": "16fcdb38",
   "metadata": {},
   "outputs": [],
   "source": [
    "import cv2\n",
    "img_array = cv2.imread('pizza.jpg')"
   ]
  },
  {
   "cell_type": "code",
   "execution_count": 11,
   "id": "6163352d",
   "metadata": {},
   "outputs": [
    {
     "data": {
      "text/plain": [
       "array([238, 226, 220, ..., 239, 233, 234], dtype=uint8)"
      ]
     },
     "execution_count": 11,
     "metadata": {},
     "output_type": "execute_result"
    }
   ],
   "source": [
    "img_array.ravel()"
   ]
  },
  {
   "cell_type": "code",
   "execution_count": 12,
   "id": "296ccf51",
   "metadata": {},
   "outputs": [],
   "source": [
    "const_3 = tf.constant(img_array.ravel())\n"
   ]
  },
  {
   "cell_type": "code",
   "execution_count": 13,
   "id": "7596a906",
   "metadata": {},
   "outputs": [
    {
     "data": {
      "text/plain": [
       "<tf.Tensor: shape=(2400000,), dtype=uint8, numpy=array([238, 226, 220, ..., 239, 233, 234], dtype=uint8)>"
      ]
     },
     "execution_count": 13,
     "metadata": {},
     "output_type": "execute_result"
    }
   ],
   "source": [
    "const_3"
   ]
  },
  {
   "cell_type": "code",
   "execution_count": 14,
   "id": "722daf75",
   "metadata": {},
   "outputs": [],
   "source": [
    "const_4 = tf.constant([[20, 30, 40, 50],\n",
    "                       [120, 130, 140, 150],\n",
    "                       [200, 300, 400, 500],\n",
    "                       [220, 330, 440, 550]], dtype = 'float16')"
   ]
  },
  {
   "cell_type": "code",
   "execution_count": 15,
   "id": "3be33240",
   "metadata": {},
   "outputs": [
    {
     "name": "stdout",
     "output_type": "stream",
     "text": [
      "tf.Tensor(\n",
      "[[ 20.  30.  40.  50.]\n",
      " [120. 130. 140. 150.]\n",
      " [200. 300. 400. 500.]\n",
      " [220. 330. 440. 550.]], shape=(4, 4), dtype=float16)\n"
     ]
    }
   ],
   "source": [
    "print(const_4)"
   ]
  },
  {
   "cell_type": "code",
   "execution_count": 16,
   "id": "c8459f56",
   "metadata": {},
   "outputs": [
    {
     "data": {
      "text/plain": [
       "array([[ 20.,  30.,  40.,  50.],\n",
       "       [120., 130., 140., 150.],\n",
       "       [200., 300., 400., 500.],\n",
       "       [220., 330., 440., 550.]], dtype=float16)"
      ]
     },
     "execution_count": 16,
     "metadata": {},
     "output_type": "execute_result"
    }
   ],
   "source": [
    "const_4.numpy()"
   ]
  },
  {
   "cell_type": "code",
   "execution_count": 17,
   "id": "9ad353a7",
   "metadata": {},
   "outputs": [
    {
     "data": {
      "text/plain": [
       "TensorShape([4, 4])"
      ]
     },
     "execution_count": 17,
     "metadata": {},
     "output_type": "execute_result"
    }
   ],
   "source": [
    "const_4.shape"
   ]
  },
  {
   "cell_type": "code",
   "execution_count": 18,
   "id": "ac8921d1",
   "metadata": {},
   "outputs": [],
   "source": [
    "const_5 = tf.constant([[[20, 30, 40],\n",
    "                       [120, 130, 140],\n",
    "                       [200, 300, 400]],\n",
    "                       \n",
    "                       [[20, 30, 40],\n",
    "                       [120, 130, 140],\n",
    "                       [200, 300, 400]]], dtype = 'float16')"
   ]
  },
  {
   "cell_type": "code",
   "execution_count": 19,
   "id": "801363ee",
   "metadata": {},
   "outputs": [
    {
     "name": "stdout",
     "output_type": "stream",
     "text": [
      "tf.Tensor(\n",
      "[[[ 20.  30.  40.]\n",
      "  [120. 130. 140.]\n",
      "  [200. 300. 400.]]\n",
      "\n",
      " [[ 20.  30.  40.]\n",
      "  [120. 130. 140.]\n",
      "  [200. 300. 400.]]], shape=(2, 3, 3), dtype=float16)\n"
     ]
    }
   ],
   "source": [
    "print(const_5)"
   ]
  },
  {
   "cell_type": "code",
   "execution_count": 20,
   "id": "626ffe53",
   "metadata": {},
   "outputs": [
    {
     "data": {
      "text/plain": [
       "TensorShape([2, 3, 3])"
      ]
     },
     "execution_count": 20,
     "metadata": {},
     "output_type": "execute_result"
    }
   ],
   "source": [
    "const_5.shape"
   ]
  },
  {
   "cell_type": "code",
   "execution_count": 21,
   "id": "5888d7ce",
   "metadata": {},
   "outputs": [],
   "source": [
    "var_1 = tf.Variable([[[20, 30, 40],\n",
    "                       [120, 130, 140],\n",
    "                       [200, 300, 400]],\n",
    "                       \n",
    "                       [[20, 30, 40],\n",
    "                       [120, 130, 140],\n",
    "                       [200, 300, 400]]], dtype = 'float16')"
   ]
  },
  {
   "cell_type": "code",
   "execution_count": 22,
   "id": "d2b38b25",
   "metadata": {},
   "outputs": [
    {
     "name": "stdout",
     "output_type": "stream",
     "text": [
      "<tf.Variable 'Variable:0' shape=(2, 3, 3) dtype=float16, numpy=\n",
      "array([[[ 20.,  30.,  40.],\n",
      "        [120., 130., 140.],\n",
      "        [200., 300., 400.]],\n",
      "\n",
      "       [[ 20.,  30.,  40.],\n",
      "        [120., 130., 140.],\n",
      "        [200., 300., 400.]]], dtype=float16)>\n"
     ]
    }
   ],
   "source": [
    "print(var_1)"
   ]
  },
  {
   "cell_type": "code",
   "execution_count": 23,
   "id": "14612ae4",
   "metadata": {},
   "outputs": [
    {
     "name": "stdout",
     "output_type": "stream",
     "text": [
      "<tf.Variable 'Variable:0' shape=(7, 1) dtype=float16, numpy=\n",
      "array([[10.],\n",
      "       [12.],\n",
      "       [14.],\n",
      "       [16.],\n",
      "       [18.],\n",
      "       [20.],\n",
      "       [24.]], dtype=float16)>\n"
     ]
    }
   ],
   "source": [
    "# Y = WT * X + Bias\n",
    "Weights = tf.Variable([[10],\n",
    "                       [12],\n",
    "                       [14],\n",
    "                       [16],\n",
    "                       [18],\n",
    "                       [20],\n",
    "                       [24]], dtype = 'float16')\n",
    "print(Weights)"
   ]
  },
  {
   "cell_type": "code",
   "execution_count": 24,
   "id": "ff2811b6",
   "metadata": {},
   "outputs": [],
   "source": [
    "\n",
    "X = tf.Variable([[8],\n",
    "                 [9],\n",
    "                 [14],\n",
    "                 [15],\n",
    "                 [19],\n",
    "                 [21],\n",
    "                 [22]], dtype = 'float16')"
   ]
  },
  {
   "cell_type": "code",
   "execution_count": 25,
   "id": "f6f69c27",
   "metadata": {
    "scrolled": false
   },
   "outputs": [
    {
     "ename": "InvalidArgumentError",
     "evalue": "{{function_node __wrapped__MatMul_device_/job:localhost/replica:0/task:0/device:CPU:0}} Matrix size-incompatible: In[0]: [7,1], In[1]: [7,1] [Op:MatMul]",
     "output_type": "error",
     "traceback": [
      "\u001b[1;31m---------------------------------------------------------------------------\u001b[0m",
      "\u001b[1;31mInvalidArgumentError\u001b[0m                      Traceback (most recent call last)",
      "Cell \u001b[1;32mIn[25], line 2\u001b[0m\n\u001b[0;32m      1\u001b[0m \u001b[38;5;66;03m# Y = WT * X\u001b[39;00m\n\u001b[1;32m----> 2\u001b[0m \u001b[43mtf\u001b[49m\u001b[38;5;241;43m.\u001b[39;49m\u001b[43mtensordot\u001b[49m\u001b[43m(\u001b[49m\u001b[43mWeights\u001b[49m\u001b[43m,\u001b[49m\u001b[43m \u001b[49m\u001b[43mX\u001b[49m\u001b[43m,\u001b[49m\u001b[43m \u001b[49m\u001b[43maxes\u001b[49m\u001b[43m \u001b[49m\u001b[38;5;241;43m=\u001b[39;49m\u001b[43m \u001b[49m\u001b[38;5;241;43m1\u001b[39;49m\u001b[43m)\u001b[49m\n",
      "File \u001b[1;32m~\\anaconda3\\envs\\segmentation\\lib\\site-packages\\tensorflow\\python\\util\\traceback_utils.py:153\u001b[0m, in \u001b[0;36mfilter_traceback.<locals>.error_handler\u001b[1;34m(*args, **kwargs)\u001b[0m\n\u001b[0;32m    151\u001b[0m \u001b[38;5;28;01mexcept\u001b[39;00m \u001b[38;5;167;01mException\u001b[39;00m \u001b[38;5;28;01mas\u001b[39;00m e:\n\u001b[0;32m    152\u001b[0m   filtered_tb \u001b[38;5;241m=\u001b[39m _process_traceback_frames(e\u001b[38;5;241m.\u001b[39m__traceback__)\n\u001b[1;32m--> 153\u001b[0m   \u001b[38;5;28;01mraise\u001b[39;00m e\u001b[38;5;241m.\u001b[39mwith_traceback(filtered_tb) \u001b[38;5;28;01mfrom\u001b[39;00m \u001b[38;5;28mNone\u001b[39m\n\u001b[0;32m    154\u001b[0m \u001b[38;5;28;01mfinally\u001b[39;00m:\n\u001b[0;32m    155\u001b[0m   \u001b[38;5;28;01mdel\u001b[39;00m filtered_tb\n",
      "File \u001b[1;32m~\\anaconda3\\envs\\segmentation\\lib\\site-packages\\tensorflow\\python\\framework\\ops.py:7209\u001b[0m, in \u001b[0;36mraise_from_not_ok_status\u001b[1;34m(e, name)\u001b[0m\n\u001b[0;32m   7207\u001b[0m \u001b[38;5;28;01mdef\u001b[39;00m \u001b[38;5;21mraise_from_not_ok_status\u001b[39m(e, name):\n\u001b[0;32m   7208\u001b[0m   e\u001b[38;5;241m.\u001b[39mmessage \u001b[38;5;241m+\u001b[39m\u001b[38;5;241m=\u001b[39m (\u001b[38;5;124m\"\u001b[39m\u001b[38;5;124m name: \u001b[39m\u001b[38;5;124m\"\u001b[39m \u001b[38;5;241m+\u001b[39m name \u001b[38;5;28;01mif\u001b[39;00m name \u001b[38;5;129;01mis\u001b[39;00m \u001b[38;5;129;01mnot\u001b[39;00m \u001b[38;5;28;01mNone\u001b[39;00m \u001b[38;5;28;01melse\u001b[39;00m \u001b[38;5;124m\"\u001b[39m\u001b[38;5;124m\"\u001b[39m)\n\u001b[1;32m-> 7209\u001b[0m   \u001b[38;5;28;01mraise\u001b[39;00m core\u001b[38;5;241m.\u001b[39m_status_to_exception(e) \u001b[38;5;28;01mfrom\u001b[39;00m \u001b[38;5;28mNone\u001b[39m\n",
      "\u001b[1;31mInvalidArgumentError\u001b[0m: {{function_node __wrapped__MatMul_device_/job:localhost/replica:0/task:0/device:CPU:0}} Matrix size-incompatible: In[0]: [7,1], In[1]: [7,1] [Op:MatMul]"
     ]
    }
   ],
   "source": [
    "# Y = WT * X\n",
    "tf.tensordot(Weights, X, axes = 1)"
   ]
  },
  {
   "cell_type": "code",
   "execution_count": 26,
   "id": "ece1e954",
   "metadata": {},
   "outputs": [
    {
     "data": {
      "text/plain": [
       "<tf.Tensor: shape=(7, 7), dtype=float16, numpy=\n",
       "array([[ 80.,  96., 112., 128., 144., 160., 192.],\n",
       "       [ 90., 108., 126., 144., 162., 180., 216.],\n",
       "       [140., 168., 196., 224., 252., 280., 336.],\n",
       "       [150., 180., 210., 240., 270., 300., 360.],\n",
       "       [190., 228., 266., 304., 342., 380., 456.],\n",
       "       [210., 252., 294., 336., 378., 420., 504.],\n",
       "       [220., 264., 308., 352., 396., 440., 528.]], dtype=float16)>"
      ]
     },
     "execution_count": 26,
     "metadata": {},
     "output_type": "execute_result"
    }
   ],
   "source": [
    "# Y = WT * X\n",
    "WT = tf.transpose(Weights)\n",
    "tf.tensordot(WT, X, axes = 1)\n",
    "\n",
    "tf.tensordot(X, WT, axes = 1)"
   ]
  },
  {
   "cell_type": "code",
   "execution_count": 27,
   "id": "749d2236",
   "metadata": {},
   "outputs": [
    {
     "data": {
      "text/plain": [
       "<tf.Tensor: shape=(7, 7), dtype=float16, numpy=\n",
       "array([[ 80.,  96., 112., 128., 144., 160., 192.],\n",
       "       [ 90., 108., 126., 144., 162., 180., 216.],\n",
       "       [140., 168., 196., 224., 252., 280., 336.],\n",
       "       [150., 180., 210., 240., 270., 300., 360.],\n",
       "       [190., 228., 266., 304., 342., 380., 456.],\n",
       "       [210., 252., 294., 336., 378., 420., 504.],\n",
       "       [220., 264., 308., 352., 396., 440., 528.]], dtype=float16)>"
      ]
     },
     "execution_count": 27,
     "metadata": {},
     "output_type": "execute_result"
    }
   ],
   "source": [
    "# Y = X * WT\n",
    "tf.tensordot(X, WT, axes = 1)"
   ]
  },
  {
   "cell_type": "code",
   "execution_count": 28,
   "id": "d4f2bb4d",
   "metadata": {},
   "outputs": [],
   "source": [
    "# Dense Neural Network\n",
    "from tensorflow.keras.layers import Dense\n",
    "# Sequential Connections with Neural Network\n",
    "from tensorflow.keras.models import Sequential\n",
    "# Optimizers of Classifier\n",
    "from tensorflow.keras.optimizers import Adam"
   ]
  },
  {
   "cell_type": "code",
   "execution_count": 29,
   "id": "3620059a",
   "metadata": {},
   "outputs": [
    {
     "name": "stdout",
     "output_type": "stream",
     "text": [
      "Model: \"sequential\"\n",
      "_________________________________________________________________\n",
      " Layer (type)                Output Shape              Param #   \n",
      "=================================================================\n",
      " dense (Dense)               (None, 100, 100, 16)      64        \n",
      "                                                                 \n",
      " dense_1 (Dense)             (None, 100, 100, 32)      544       \n",
      "                                                                 \n",
      " dense_2 (Dense)             (None, 100, 100, 64)      2112      \n",
      "                                                                 \n",
      " dense_3 (Dense)             (None, 100, 100, 1)       65        \n",
      "                                                                 \n",
      "=================================================================\n",
      "Total params: 2,785\n",
      "Trainable params: 2,785\n",
      "Non-trainable params: 0\n",
      "_________________________________________________________________\n"
     ]
    }
   ],
   "source": [
    "def build_model():\n",
    "    model = Sequential()\n",
    "    # units = Number of Neurons , activation = 'relu', input_shape = shape of image (image height, image_width, dim)\n",
    "    model.add(Dense(units = 16, activation = 'relu', input_shape = [100,100,3]))\n",
    "    # Hidden Layer - I\n",
    "    model.add(Dense(units = 32, activation = 'relu'))\n",
    "    # Hidden Layer - II\n",
    "    model.add(Dense(units = 64, activation = 'relu'))\n",
    "    # Output layer - Binary Classification\n",
    "    model.add(Dense(units = 1, activation = 'sigmoid'))\n",
    "    # Model Compiler\n",
    "    # Metrics = Check for model performance\n",
    "    model.compile(loss='binary_crossentropy',optimizer='Adam', metrics = ['accuracy'])\n",
    "    \n",
    "    return model\n",
    "\n",
    "model = build_model()\n",
    "\n",
    "model.summary()\n"
   ]
  },
  {
   "cell_type": "code",
   "execution_count": null,
   "id": "b38f2eb0",
   "metadata": {},
   "outputs": [],
   "source": []
  }
 ],
 "metadata": {
  "kernelspec": {
   "display_name": "Python 3 (ipykernel)",
   "language": "python",
   "name": "python3"
  },
  "language_info": {
   "codemirror_mode": {
    "name": "ipython",
    "version": 3
   },
   "file_extension": ".py",
   "mimetype": "text/x-python",
   "name": "python",
   "nbconvert_exporter": "python",
   "pygments_lexer": "ipython3",
   "version": "3.10.10"
  }
 },
 "nbformat": 4,
 "nbformat_minor": 5
}
