{
 "cells": [
  {
   "cell_type": "code",
   "execution_count": 1,
   "id": "5a72354f",
   "metadata": {},
   "outputs": [
    {
     "name": "stdout",
     "output_type": "stream",
     "text": [
      "Enter the name of Person : Thakur\n"
     ]
    },
    {
     "ename": "ValueError",
     "evalue": "cannot reshape array of size 0 into shape (0,newaxis)",
     "output_type": "error",
     "traceback": [
      "\u001b[1;31m---------------------------------------------------------------------------\u001b[0m",
      "\u001b[1;31mValueError\u001b[0m                                Traceback (most recent call last)",
      "Cell \u001b[1;32mIn[1], line 64\u001b[0m\n\u001b[0;32m     61\u001b[0m \u001b[38;5;66;03m# Collection of faces\u001b[39;00m\n\u001b[0;32m     62\u001b[0m \u001b[38;5;66;03m# Collect minimum 200-300 faces with face emotions & gestures\u001b[39;00m\n\u001b[0;32m     63\u001b[0m face_data \u001b[38;5;241m=\u001b[39m np\u001b[38;5;241m.\u001b[39marray(face_data)\n\u001b[1;32m---> 64\u001b[0m face_data \u001b[38;5;241m=\u001b[39m \u001b[43mface_data\u001b[49m\u001b[38;5;241;43m.\u001b[39;49m\u001b[43mreshape\u001b[49m\u001b[43m(\u001b[49m\u001b[43m(\u001b[49m\u001b[43mface_data\u001b[49m\u001b[38;5;241;43m.\u001b[39;49m\u001b[43mshape\u001b[49m\u001b[43m[\u001b[49m\u001b[38;5;241;43m0\u001b[39;49m\u001b[43m]\u001b[49m\u001b[43m,\u001b[49m\u001b[43m \u001b[49m\u001b[38;5;241;43m-\u001b[39;49m\u001b[38;5;241;43m1\u001b[39;49m\u001b[43m)\u001b[49m\u001b[43m)\u001b[49m\n\u001b[0;32m     65\u001b[0m \u001b[38;5;28mprint\u001b[39m(face_data\u001b[38;5;241m.\u001b[39mshape)\n\u001b[0;32m     67\u001b[0m np\u001b[38;5;241m.\u001b[39msave(dataset_path \u001b[38;5;241m+\u001b[39m file_name , face_data)\n",
      "\u001b[1;31mValueError\u001b[0m: cannot reshape array of size 0 into shape (0,newaxis)"
     ]
    }
   ],
   "source": [
    "import cv2\n",
    "import numpy as np\n",
    "\n",
    "face_cacscade = cv2.CascadeClassifier(\"C:/Users/dell/Downloads/Image/haarcascade_frontalface_default.xml\")\n",
    "# 0 = Primary Camera Webcam\n",
    "cap = cv2.VideoCapture(1)\n",
    "\n",
    "skip = 0\n",
    "face_data = []\n",
    "# Create a folder location to save all image samples\n",
    "dataset_path = \"C:/Users/dell/Downloads/Image/face_datase/\"\n",
    "\n",
    "# Enter the name of Person\n",
    "file_name = input(\"Enter the name of Person : \")\n",
    "\n",
    "while (cap.isOpened()):\n",
    "    ret, frame = cap.read()\n",
    "    \n",
    "    if ret == True:\n",
    "        # Increase the video frame resolution\n",
    "        frame = cv2.resize(frame, (1280,960), fx = 200, fy = 300, \n",
    "                       interpolation = cv2.INTER_NEAREST)\n",
    "    # BGR to GRAYSCALE\n",
    "    gray_frame = cv2.cvtColor(frame, cv2.COLOR_BGR2GRAY)\n",
    "    \n",
    "    if ret == False:\n",
    "        continue\n",
    "    faces = face_cacscade.detectMultiScale(gray_frame, 1.5, 5)\n",
    "    if len(faces) == 0:\n",
    "        continue\n",
    "    k = 1   # This is image counter\n",
    "    # x[2] = value of image height from faces\n",
    "    # x[3] = value of image width from faces\n",
    "    faces = sorted(faces, key = lambda x : x[2]*x[3], reverse = True)\n",
    "    skip += 1\n",
    "    \n",
    "    for face in faces[:1]:\n",
    "        x,y,w,h = face\n",
    "        # offset = small boundry of pixels\n",
    "        offset = 5\n",
    "        face_offset = frame[y-offset:y+h+offset,x-offset:x+w+offset]\n",
    "        face_selection = cv2.resize(face_offset,(100,100))\n",
    "        \n",
    "        # To slow the face detection, Select every 10th face detected\n",
    "        if skip % 10 == 0:\n",
    "            face_data.append(face_selection)\n",
    "            print(len(face_data))\n",
    "            \n",
    "        cv2.imshow(str(k), face_selection)\n",
    "        \n",
    "        k += 1\n",
    "        \n",
    "        cv2.rectangle(frame, (x,y),(x+w,y+h),(0,255,0),2)\n",
    "        \n",
    "    cv2.imshow(\"faces\", frame)\n",
    "    \n",
    "    key_pressed = cv2.waitKey(1) & 0xFF\n",
    "    if key_pressed == ord('q'):\n",
    "        break\n",
    "    \n",
    "# Collection of faces\n",
    "# Collect minimum 200-300 faces with face emotions & gestures\n",
    "face_data = np.array(face_data)\n",
    "face_data = face_data.reshape((face_data.shape[0], -1))\n",
    "print(face_data.shape)\n",
    "\n",
    "np.save(dataset_path + file_name , face_data)\n",
    "print(\"Images Saved at : {}\".format(dataset_path + file_name + '.npy'))\n",
    "\n",
    "cap.release()\n",
    "cv2.destroyAllWindows()"
   ]
  },
  {
   "cell_type": "code",
   "execution_count": null,
   "id": "10340f73",
   "metadata": {},
   "outputs": [],
   "source": []
  }
 ],
 "metadata": {
  "kernelspec": {
   "display_name": "Python 3 (ipykernel)",
   "language": "python",
   "name": "python3"
  },
  "language_info": {
   "codemirror_mode": {
    "name": "ipython",
    "version": 3
   },
   "file_extension": ".py",
   "mimetype": "text/x-python",
   "name": "python",
   "nbconvert_exporter": "python",
   "pygments_lexer": "ipython3",
   "version": "3.10.10"
  }
 },
 "nbformat": 4,
 "nbformat_minor": 5
}
