{
 "cells": [
  {
   "cell_type": "markdown",
   "id": "32858c80",
   "metadata": {},
   "source": [
    "## OpenCV - Smooth Noise"
   ]
  },
  {
   "cell_type": "code",
   "execution_count": null,
   "id": "75a0bd1f",
   "metadata": {},
   "outputs": [],
   "source": [
    "import cv2\n",
    "import numpy as np\n",
    "\n",
    "img = cv2.imread(\"parrot.png\")\n",
    "\n",
    "# Smoothening of Image using Kernel Matrix\n",
    "kernel = np.ones((5,5), np.float32) / 25\n",
    "print(kernel)\n",
    "\n",
    "# Filter 2D\n",
    "# source, ddepth, kernel matrix\n",
    "smoothed = cv2.filter2D(img, -1, kernel)\n",
    "\n",
    "g_blur = cv2.GaussianBlur(img, (3,3), 1)\n",
    "cv2.imshow(\"Gaussian Blur\", g_blur)\n",
    "\n",
    "m_blur = cv2.medianBlur(img, 3)\n",
    "cv2.imshow(\"Median Blur\", m_blur)\n",
    "\n",
    "avg_blur = cv2.blur(img, (3,3))\n",
    "# cv2.imshow(\"Average Blur\", avg_blur)\n",
    "\n",
    "cv2.imshow(\"Original\", img)\n",
    "cv2.imshow(\"Smoothed\", smoothed)\n",
    "\n",
    "# wait for any key\n",
    "cv2.waitKey(0)\n",
    "# Close all frames\n",
    "cv2.destroyAllWindows()"
   ]
  },
  {
   "cell_type": "markdown",
   "id": "c089998e",
   "metadata": {},
   "source": [
    "## OpenCV - Smooth Noise"
   ]
  },
  {
   "cell_type": "code",
   "execution_count": null,
   "id": "c13abdf3",
   "metadata": {},
   "outputs": [],
   "source": [
    "import cv2\n",
    "import numpy as np\n",
    "\n",
    "img = cv2.imread(\"parrot.png\")\n",
    "\n",
    "# Smoothening of Image using Kernel Matrix\n",
    "kernel = np.ones((5,5), np.float32) / 25\n",
    "print(kernel)\n",
    "\n",
    "# Filter 2D\n",
    "# source, ddepth, kernel matrix\n",
    "smoothed = cv2.filter2D(img, -1, kernel)\n",
    "\n",
    "g_blur = cv2.GaussianBlur(img, (3,3), 1)\n",
    "cv2.imshow(\"Gaussian Blur\", g_blur)\n",
    "\n",
    "m_blur = cv2.medianBlur(img, 3)\n",
    "cv2.imshow(\"Median Blur\", m_blur)\n",
    "\n",
    "avg_blur = cv2.blur(img, (3,3))\n",
    "# cv2.imshow(\"Average Blur\", avg_blur)\n",
    "\n",
    "cv2.imshow(\"Original\", img)\n",
    "cv2.imshow(\"Smoothed\", smoothed)\n",
    "\n",
    "# wait for any key\n",
    "cv2.waitKey(0)\n",
    "# Close all frames\n",
    "cv2.destroyAllWindows()"
   ]
  }
 ],
 "metadata": {
  "kernelspec": {
   "display_name": "Python 3 (ipykernel)",
   "language": "python",
   "name": "python3"
  },
  "language_info": {
   "codemirror_mode": {
    "name": "ipython",
    "version": 3
   },
   "file_extension": ".py",
   "mimetype": "text/x-python",
   "name": "python",
   "nbconvert_exporter": "python",
   "pygments_lexer": "ipython3",
   "version": "3.10.10"
  }
 },
 "nbformat": 4,
 "nbformat_minor": 5
}
