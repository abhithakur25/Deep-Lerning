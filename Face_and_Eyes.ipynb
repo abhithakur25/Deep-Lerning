{
 "cells": [
  {
   "cell_type": "code",
   "execution_count": 2,
   "id": "b76a76c0",
   "metadata": {},
   "outputs": [],
   "source": [
    "import cv2\n",
    "\n",
    "face_cacscade = cv2.CascadeClassifier(\"haarcascade_frontalface_default.xml\")\n",
    "eye_cacscade = cv2.CascadeClassifier(\"haarcascade_eye.xml\")\n",
    "\n",
    "# 0 = Primary Camera Webcam\n",
    "cap = cv2.VideoCapture(1)\n",
    "\n",
    "while (cap.isOpened()):\n",
    "    ret, frame = cap.read()\n",
    "    \n",
    "    # Increase the video frame resolution\n",
    "    # fx = scale factor along horizontal axis\n",
    "    # fy = scale factor along vertical axis \n",
    "    frame = cv2.resize(frame, (740, 580), fx = 200, fy = 300, \n",
    "                       interpolation = cv2.INTER_NEAREST)\n",
    "    \n",
    "    # BGR to GRAYSCALE\n",
    "    gray = cv2.cvtColor(frame, cv2.COLOR_BGR2GRAY)\n",
    "    \n",
    "    # 1.3 is threshold value for scale factor , 5 - Number of Neighbours\n",
    "    # face will store start coordinate (x,y) and (h,w) if detected face\n",
    "    faces = face_cacscade.detectMultiScale(gray, 1.3, 5)\n",
    "    for (x,y,w,h) in faces:\n",
    "        # Draw the Rectangle on Face\n",
    "        cv2.rectangle(frame, (x,y), (x+w,y+h), (255,255,255), 2)\n",
    "        # Face Detection ROI\n",
    "        roi_gray = gray[y:y+h, x:x+w]\n",
    "        roi_color = frame[y:y+h, x:x+w]\n",
    "        eyes = eye_cacscade.detectMultiScale(roi_gray, 1.3, 5)\n",
    "        for (ex,ey,ew,eh) in eyes:\n",
    "            # Draw the Rectangle on Eyes\n",
    "            cv2.rectangle(roi_color, (ex,ey), (ex+ew,ey+eh), \n",
    "                          (255,255,0), 2)\n",
    "    cv2.imshow('Original', frame)\n",
    "    \n",
    "    k = cv2.waitKey(1) & 0xFF\n",
    "    if k == ord('q') or k == 27:\n",
    "        break\n",
    "\n",
    "cap.release()\n",
    "cv2.destroyAllWindows()"
   ]
  },
  {
   "cell_type": "code",
   "execution_count": null,
   "id": "52a05032",
   "metadata": {},
   "outputs": [],
   "source": []
  }
 ],
 "metadata": {
  "kernelspec": {
   "display_name": "Python 3 (ipykernel)",
   "language": "python",
   "name": "python3"
  },
  "language_info": {
   "codemirror_mode": {
    "name": "ipython",
    "version": 3
   },
   "file_extension": ".py",
   "mimetype": "text/x-python",
   "name": "python",
   "nbconvert_exporter": "python",
   "pygments_lexer": "ipython3",
   "version": "3.10.10"
  }
 },
 "nbformat": 4,
 "nbformat_minor": 5
}
